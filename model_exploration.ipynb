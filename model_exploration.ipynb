{
 "cells": [
  {
   "cell_type": "markdown",
   "metadata": {},
   "source": [
    "# Machine Learning Model Training\n",
    "## Goal: Achieve 80%+ Accuracy\n",
    "\n",
    "This notebook demonstrates the process of building and optimizing a machine learning model to achieve high accuracy."
   ]
  },
  {
   "cell_type": "code",
   "execution_count": null,
   "metadata": {},
   "outputs": [],
   "source": [
    "# Import required libraries\n",
    "import pandas as pd\n",
    "import numpy as np\n",
    "import matplotlib.pyplot as plt\n",
    "import seaborn as sns\n",
    "from sklearn.model_selection import train_test_split, cross_val_score\n",
    "from sklearn.preprocessing import StandardScaler\n",
    "from sklearn.ensemble import RandomForestClassifier, GradientBoostingClassifier\n",
    "from sklearn.metrics import accuracy_score, classification_report, confusion_matrix\n",
    "\n",
    "# Set style\n",
    "sns.set_style('whitegrid')\n",
    "plt.rcParams['figure.figsize'] = (12, 6)\n",
    "\n",
    "# Random seed for reproducibility\n",
    "np.random.seed(42)"
   ]
  },
  {
   "cell_type": "markdown",
   "metadata": {},
   "source": [
    "## 1. Data Loading and Exploration"
   ]
  },
  {
   "cell_type": "code",
   "execution_count": null,
   "metadata": {},
   "outputs": [],
   "source": [
    "# Load data (using synthetic data for demonstration)\n",
    "from train_model import load_and_prepare_data, preprocess_data\n",
    "\n",
    "df = load_and_prepare_data()\n",
    "print(f\"Dataset shape: {df.shape}\")\n",
    "df.head()"
   ]
  },
  {
   "cell_type": "code",
   "execution_count": null,
   "metadata": {},
   "outputs": [],
   "source": [
    "# Data summary\n",
    "print(\"Dataset Info:\")\n",
    "print(df.info())\n",
    "print(\"\\nStatistical Summary:\")\n",
    "print(df.describe())"
   ]
  },
  {
   "cell_type": "code",
   "execution_count": null,
   "metadata": {},
   "outputs": [],
   "source": [
    "# Target distribution\n",
    "fig, ax = plt.subplots(1, 2, figsize=(14, 5))\n",
    "\n",
    "# Count plot\n",
    "df['Survived'].value_counts().plot(kind='bar', ax=ax[0], color=['#d62728', '#2ca02c'])\n",
    "ax[0].set_title('Survival Distribution', fontsize=14, fontweight='bold')\n",
    "ax[0].set_xlabel('Survived (0=No, 1=Yes)')\n",
    "ax[0].set_ylabel('Count')\n",
    "ax[0].set_xticklabels(['No', 'Yes'], rotation=0)\n",
    "\n",
    "# Pie chart\n",
    "df['Survived'].value_counts().plot(kind='pie', ax=ax[1], autopct='%1.1f%%', \n",
    "                                    colors=['#d62728', '#2ca02c'], labels=['Died', 'Survived'])\n",
    "ax[1].set_title('Survival Rate', fontsize=14, fontweight='bold')\n",
    "ax[1].set_ylabel('')\n",
    "\n",
    "plt.tight_layout()\n",
    "plt.show()"
   ]
  },
  {
   "cell_type": "markdown",
   "metadata": {},
   "source": [
    "## 2. Feature Analysis"
   ]
  },
  {
   "cell_type": "code",
   "execution_count": null,
   "metadata": {},
   "outputs": [],
   "source": [
    "# Analyze survival by different features\n",
    "fig, axes = plt.subplots(2, 2, figsize=(15, 12))\n",
    "\n",
    "# Survival by Sex\n",
    "pd.crosstab(df['Sex'], df['Survived'], normalize='index').plot(kind='bar', ax=axes[0,0], \n",
    "                                                                 color=['#d62728', '#2ca02c'])\n",
    "axes[0,0].set_title('Survival Rate by Sex', fontsize=12, fontweight='bold')\n",
    "axes[0,0].set_xlabel('Sex')\n",
    "axes[0,0].set_ylabel('Proportion')\n",
    "axes[0,0].legend(['Died', 'Survived'])\n",
    "axes[0,0].set_xticklabels(axes[0,0].get_xticklabels(), rotation=0)\n",
    "\n",
    "# Survival by Pclass\n",
    "pd.crosstab(df['Pclass'], df['Survived'], normalize='index').plot(kind='bar', ax=axes[0,1],\n",
    "                                                                    color=['#d62728', '#2ca02c'])\n",
    "axes[0,1].set_title('Survival Rate by Passenger Class', fontsize=12, fontweight='bold')\n",
    "axes[0,1].set_xlabel('Passenger Class')\n",
    "axes[0,1].set_ylabel('Proportion')\n",
    "axes[0,1].legend(['Died', 'Survived'])\n",
    "axes[0,1].set_xticklabels(axes[0,1].get_xticklabels(), rotation=0)\n",
    "\n",
    "# Age distribution by survival\n",
    "df[df['Survived']==0]['Age'].hist(ax=axes[1,0], bins=20, alpha=0.5, color='#d62728', label='Died')\n",
    "df[df['Survived']==1]['Age'].hist(ax=axes[1,0], bins=20, alpha=0.5, color='#2ca02c', label='Survived')\n",
    "axes[1,0].set_title('Age Distribution by Survival', fontsize=12, fontweight='bold')\n",
    "axes[1,0].set_xlabel('Age')\n",
    "axes[1,0].set_ylabel('Count')\n",
    "axes[1,0].legend()\n",
    "\n",
    "# Fare distribution by survival\n",
    "df[df['Survived']==0]['Fare'].hist(ax=axes[1,1], bins=20, alpha=0.5, color='#d62728', label='Died')\n",
    "df[df['Survived']==1]['Fare'].hist(ax=axes[1,1], bins=20, alpha=0.5, color='#2ca02c', label='Survived')\n",
    "axes[1,1].set_title('Fare Distribution by Survival', fontsize=12, fontweight='bold')\n",
    "axes[1,1].set_xlabel('Fare')\n",
    "axes[1,1].set_ylabel('Count')\n",
    "axes[1,1].legend()\n",
    "\n",
    "plt.tight_layout()\n",
    "plt.show()"
   ]
  },
  {
   "cell_type": "markdown",
   "metadata": {},
   "source": [
    "## 3. Data Preprocessing"
   ]
  },
  {
   "cell_type": "code",
   "execution_count": null,
   "metadata": {},
   "outputs": [],
   "source": [
    "# Preprocess data\n",
    "df_processed = preprocess_data(df)\n",
    "print(\"Processed dataset shape:\", df_processed.shape)\n",
    "print(\"\\nFeatures:\", list(df_processed.columns))\n",
    "df_processed.head()"
   ]
  },
  {
   "cell_type": "markdown",
   "metadata": {},
   "source": [
    "## 4. Model Training and Evaluation"
   ]
  },
  {
   "cell_type": "code",
   "execution_count": null,
   "metadata": {},
   "outputs": [],
   "source": [
    "# Prepare features and target\n",
    "X = df_processed.drop('Survived', axis=1)\n",
    "y = df_processed['Survived']\n",
    "\n",
    "# Split data\n",
    "X_train, X_test, y_train, y_test = train_test_split(X, y, test_size=0.2, random_state=42, stratify=y)\n",
    "\n",
    "# Scale features\n",
    "scaler = StandardScaler()\n",
    "X_train_scaled = scaler.fit_transform(X_train)\n",
    "X_test_scaled = scaler.transform(X_test)\n",
    "\n",
    "print(f\"Training set size: {X_train_scaled.shape}\")\n",
    "print(f\"Test set size: {X_test_scaled.shape}\")"
   ]
  },
  {
   "cell_type": "code",
   "execution_count": null,
   "metadata": {},
   "outputs": [],
   "source": [
    "# Train multiple models\n",
    "from train_model import train_and_evaluate_models\n",
    "\n",
    "results = train_and_evaluate_models(X_train_scaled, X_test_scaled, y_train, y_test)"
   ]
  },
  {
   "cell_type": "code",
   "execution_count": null,
   "metadata": {},
   "outputs": [],
   "source": [
    "# Visualize model performance\n",
    "model_names = list(results.keys())\n",
    "accuracies = [results[name]['accuracy'] for name in model_names]\n",
    "cv_scores = [results[name]['cv_score'] for name in model_names]\n",
    "\n",
    "x = np.arange(len(model_names))\n",
    "width = 0.35\n",
    "\n",
    "fig, ax = plt.subplots(figsize=(12, 6))\n",
    "bars1 = ax.bar(x - width/2, accuracies, width, label='Test Accuracy', color='#1f77b4')\n",
    "bars2 = ax.bar(x + width/2, cv_scores, width, label='CV Score', color='#ff7f0e')\n",
    "\n",
    "ax.set_xlabel('Model', fontsize=12, fontweight='bold')\n",
    "ax.set_ylabel('Accuracy', fontsize=12, fontweight='bold')\n",
    "ax.set_title('Model Performance Comparison', fontsize=14, fontweight='bold')\n",
    "ax.set_xticks(x)\n",
    "ax.set_xticklabels(model_names, rotation=45, ha='right')\n",
    "ax.legend()\n",
    "ax.axhline(y=0.8, color='r', linestyle='--', label='80% Target')\n",
    "ax.grid(axis='y', alpha=0.3)\n",
    "\n",
    "# Add value labels on bars\n",
    "for bars in [bars1, bars2]:\n",
    "    for bar in bars:\n",
    "        height = bar.get_height()\n",
    "        ax.text(bar.get_x() + bar.get_width()/2., height,\n",
    "                f'{height:.3f}',\n",
    "                ha='center', va='bottom', fontsize=9)\n",
    "\n",
    "plt.tight_layout()\n",
    "plt.show()"
   ]
  },
  {
   "cell_type": "markdown",
   "metadata": {},
   "source": [
    "## 5. Model Optimization"
   ]
  },
  {
   "cell_type": "code",
   "execution_count": null,
   "metadata": {},
   "outputs": [],
   "source": [
    "# Optimize the best model\n",
    "from train_model import optimize_best_model\n",
    "\n",
    "best_model, final_accuracy = optimize_best_model(X_train_scaled, X_test_scaled, y_train, y_test)"
   ]
  },
  {
   "cell_type": "code",
   "execution_count": null,
   "metadata": {},
   "outputs": [],
   "source": [
    "# Feature importance (for Random Forest)\n",
    "if hasattr(best_model, 'feature_importances_'):\n",
    "    feature_importance = pd.DataFrame({\n",
    "        'feature': X.columns,\n",
    "        'importance': best_model.feature_importances_\n",
    "    }).sort_values('importance', ascending=False)\n",
    "    \n",
    "    plt.figure(figsize=(10, 6))\n",
    "    sns.barplot(data=feature_importance, x='importance', y='feature', palette='viridis')\n",
    "    plt.title('Feature Importance', fontsize=14, fontweight='bold')\n",
    "    plt.xlabel('Importance', fontsize=12)\n",
    "    plt.ylabel('Feature', fontsize=12)\n",
    "    plt.tight_layout()\n",
    "    plt.show()\n",
    "    \n",
    "    print(\"\\nTop 5 Most Important Features:\")\n",
    "    print(feature_importance.head())"
   ]
  },
  {
   "cell_type": "markdown",
   "metadata": {},
   "source": [
    "## 6. Results Summary"
   ]
  },
  {
   "cell_type": "code",
   "execution_count": null,
   "metadata": {},
   "outputs": [],
   "source": [
    "print(\"=\" * 70)\n",
    "print(\"FINAL RESULTS\")\n",
    "print(\"=\" * 70)\n",
    "print(f\"Final Model Accuracy: {final_accuracy:.4f} ({final_accuracy*100:.2f}%)\")\n",
    "print(f\"Target: 80%+\")\n",
    "print(f\"Status: {'✓ ACHIEVED' if final_accuracy >= 0.80 else '✗ NOT ACHIEVED'}\")\n",
    "print(\"=\" * 70)"
   ]
  }
 ],
 "metadata": {
  "kernelspec": {
   "display_name": "Python 3",
   "language": "python",
   "name": "python3"
  },
  "language_info": {
   "codemirror_mode": {
    "name": "ipython",
    "version": 3
   },
   "file_extension": ".py",
   "mimetype": "text/x-python",
   "name": "python",
   "nbconvert_exporter": "python",
   "pygments_lexer": "ipython3",
   "version": "3.8.0"
  }
 },
 "nbformat": 4,
 "nbformat_minor": 4
}
